{
  "nbformat": 4,
  "nbformat_minor": 0,
  "metadata": {
    "colab": {
      "provenance": []
    },
    "kernelspec": {
      "name": "python3",
      "display_name": "Python 3"
    },
    "language_info": {
      "name": "python"
    }
  },
  "cells": [
    {
      "cell_type": "code",
      "source": [
        "import random\n",
        "def display(room):\n",
        "  print(room)\n",
        "\n",
        "room = [[1,1,1,1],[1,1,1,1],[1,1,1,1],[1,1,1,1]]\n",
        "print(\"All rooms are dirty\")\n",
        "display(room)\n",
        "\n",
        "x=0\n",
        "y=0\n",
        "\n",
        "while x<4:\n",
        "  while y<4:\n",
        "    room[x][y] = random.choice([0,1])\n",
        "    y+=1\n",
        "  x+=1\n",
        "  y=0\n",
        "\n",
        "print(\"Before cleaning the room, I detect all these random dirts \")\n",
        "display(room)\n",
        "\n",
        "\n",
        "#Itialize counters for cleaning process\n",
        "x=0\n",
        "y=0\n",
        "z=0\n",
        "\n",
        "\n",
        "#clean room\n",
        "while x<4:\n",
        "    while y<4:\n",
        "        if room[x][y] ==1:\n",
        "            print(\"Vacuum in this location now:\", x,y)\n",
        "            room[x][y] = 0\n",
        "            print(\"Cleaned: \", x,y)\n",
        "            z+=1\n",
        "        y+=1\n",
        "    x+=1\n",
        "    y=0\n",
        "performance = (100 - (( z/16) * 100))\n",
        "print( \"Room is clean now. Thanks for using the robot vaccum cleaner! \")\n",
        "display(room)\n",
        "print('Performance= ', performance, '%')"
      ],
      "metadata": {
        "colab": {
          "base_uri": "https://localhost:8080/"
        },
        "id": "wTYfXFAxqXGY",
        "outputId": "8094438e-05c9-4261-abc5-49d520ffbc75"
      },
      "execution_count": 1,
      "outputs": [
        {
          "output_type": "stream",
          "name": "stdout",
          "text": [
            "All rooms are dirty\n",
            "[[1, 1, 1, 1], [1, 1, 1, 1], [1, 1, 1, 1], [1, 1, 1, 1]]\n",
            "Before cleaning the room, I detect all these random dirts \n",
            "[[1, 1, 0, 1], [0, 1, 0, 1], [1, 1, 1, 1], [0, 1, 1, 0]]\n",
            "Vacuum in this location now: 0 0\n",
            "Cleaned:  0 0\n",
            "Vacuum in this location now: 0 1\n",
            "Cleaned:  0 1\n",
            "Vacuum in this location now: 0 3\n",
            "Cleaned:  0 3\n",
            "Vacuum in this location now: 1 1\n",
            "Cleaned:  1 1\n",
            "Vacuum in this location now: 1 3\n",
            "Cleaned:  1 3\n",
            "Vacuum in this location now: 2 0\n",
            "Cleaned:  2 0\n",
            "Vacuum in this location now: 2 1\n",
            "Cleaned:  2 1\n",
            "Vacuum in this location now: 2 2\n",
            "Cleaned:  2 2\n",
            "Vacuum in this location now: 2 3\n",
            "Cleaned:  2 3\n",
            "Vacuum in this location now: 3 1\n",
            "Cleaned:  3 1\n",
            "Vacuum in this location now: 3 2\n",
            "Cleaned:  3 2\n",
            "Room is clean now. Thanks for using the robot vaccum cleaner! \n",
            "[[0, 0, 0, 0], [0, 0, 0, 0], [0, 0, 0, 0], [0, 0, 0, 0]]\n",
            "Performance=  31.25 %\n"
          ]
        }
      ]
    }
  ]
}